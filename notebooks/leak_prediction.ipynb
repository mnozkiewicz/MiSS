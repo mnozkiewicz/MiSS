{
 "cells": [
  {
   "cell_type": "code",
   "execution_count": 1,
   "id": "d4db8f03",
   "metadata": {},
   "outputs": [],
   "source": [
    "import sys\n",
    "\n",
    "sys.path.append(\"../\")"
   ]
  },
  {
   "cell_type": "code",
   "execution_count": 2,
   "id": "91315755",
   "metadata": {},
   "outputs": [
    {
     "name": "stdout",
     "output_type": "stream",
     "text": [
      "EPANET version 20200 loaded (EPyT version v1.2.1 - Last Update: 09/01/2024).\n",
      "Input File Hanoi.inp loaded successfully.\n",
      "\n",
      "generating 32 input files...\n",
      "\n",
      "... Running EPANET Version 2.3.0\n",
      "                                                               \n",
      "... EPANET ran successfully.\n",
      "\n",
      "... Running EPANET Version 2.3.0\n",
      "                                                               \n",
      "... EPANET ran successfully.\n",
      "\n",
      "... Running EPANET Version 2.3.0\n",
      "                                                               \n",
      "... EPANET ran successfully.\n",
      "\n",
      "... Running EPANET Version 2.3.0\n",
      "                                                               \n",
      "... EPANET ran successfully.\n",
      "\n",
      "... Running EPANET Version 2.3.0\n",
      "                                                               \n",
      "... EPANET ran successfully.\n",
      "\n",
      "... Running EPANET Version 2.3.0\n",
      "                                                               \n",
      "... EPANET ran successfully.\n",
      "\n",
      "... Running EPANET Version 2.3.0\n",
      "                                                               \n",
      "... EPANET ran successfully.\n",
      "\n",
      "... Running EPANET Version 2.3.0\n",
      "                                                               \n",
      "... EPANET ran successfully.\n",
      "\n",
      "... Running EPANET Version 2.3.0\n",
      "                                                               \n",
      "... EPANET ran successfully.\n",
      "\n",
      "... Running EPANET Version 2.3.0\n",
      "                                                               \n",
      "... EPANET ran successfully.\n",
      "\n",
      "... Running EPANET Version 2.3.0\n",
      "                                                               \n",
      "... EPANET ran successfully.\n",
      "\n",
      "... Running EPANET Version 2.3.0\n",
      "                                                               \n",
      "... EPANET ran successfully.\n",
      "\n",
      "... Running EPANET Version 2.3.0\n",
      "                                                               \n",
      "... EPANET ran successfully.\n",
      "\n",
      "... Running EPANET Version 2.3.0\n",
      "                                                               \n",
      "... EPANET ran successfully.\n",
      "\n",
      "... Running EPANET Version 2.3.0\n",
      "                                                               \n",
      "... EPANET ran successfully.\n",
      "\n",
      "... Running EPANET Version 2.3.0\n",
      "                                                               \n",
      "... EPANET ran successfully.\n",
      "\n",
      "... Running EPANET Version 2.3.0\n",
      "                                                               \n",
      "... EPANET ran successfully.\n",
      "\n",
      "... Running EPANET Version 2.3.0\n",
      "                                                               \n",
      "... EPANET ran successfully.\n",
      "\n",
      "... Running EPANET Version 2.3.0\n",
      "                                                               \n",
      "... EPANET ran successfully.\n",
      "\n",
      "... Running EPANET Version 2.3.0\n",
      "                                                               \n",
      "... EPANET ran successfully.\n",
      "\n",
      "... Running EPANET Version 2.3.0\n",
      "                                                               \n",
      "... EPANET ran successfully.\n",
      "\n",
      "... Running EPANET Version 2.3.0\n",
      "                                                               \n",
      "... EPANET ran successfully.\n",
      "\n",
      "... Running EPANET Version 2.3.0\n",
      "                                                               \n",
      "... EPANET ran successfully.\n",
      "\n",
      "... Running EPANET Version 2.3.0\n",
      "                                                               \n",
      "... EPANET ran successfully.\n",
      "\n",
      "... Running EPANET Version 2.3.0\n",
      "                                                               \n",
      "... EPANET ran successfully.\n",
      "\n",
      "... Running EPANET Version 2.3.0\n",
      "                                                               \n",
      "... EPANET ran successfully.\n",
      "\n",
      "... Running EPANET Version 2.3.0\n",
      "                                                               \n",
      "... EPANET ran successfully.\n",
      "\n",
      "... Running EPANET Version 2.3.0\n",
      "                                                               \n",
      "... EPANET ran successfully.\n",
      "\n",
      "... Running EPANET Version 2.3.0\n",
      "                                                               \n",
      "... EPANET ran successfully.\n",
      "\n",
      "... Running EPANET Version 2.3.0\n",
      "                                                               \n",
      "... EPANET ran successfully.\n",
      "\n",
      "... Running EPANET Version 2.3.0\n",
      "                                                               \n",
      "... EPANET ran successfully.\n",
      "\n",
      "... Running EPANET Version 2.3.0\n",
      "                                                               \n",
      "... EPANET ran successfully.\n",
      "\n",
      "... Running EPANET Version 2.3.0\n",
      "                                                               \n",
      "... EPANET ran successfully.\n"
     ]
    }
   ],
   "source": [
    "import scripts\n",
    "import os\n",
    "\n",
    "leaks_path = \"../data/leaks\"\n",
    "reports_path = \"../data/reports\"\n",
    "network_path = \"../data/Hanoi.inp\"\n",
    "\n",
    "os.environ[\"EPANET_HOME\"] = \"../EPANET/build/bin/runepanet\"\n",
    "\n",
    "scripts.prepare_files(network_path, leaks_path)\n",
    "scripts.run_simulations(leaks_path, reports_path)"
   ]
  },
  {
   "cell_type": "code",
   "execution_count": 3,
   "id": "e8f7aa05",
   "metadata": {},
   "outputs": [],
   "source": [
    "import pandas as pd\n",
    "\n",
    "def extract_node_id(path: str) -> int:\n",
    "    normpath = os.path.normpath(path)\n",
    "    filename = normpath.split(\"/\")[-1]\n",
    "    return int(filename.split(\"_\")[0])"
   ]
  },
  {
   "cell_type": "code",
   "execution_count": 4,
   "id": "af89793d",
   "metadata": {},
   "outputs": [],
   "source": [
    "report_dir_path = \"../data/reports\"\n",
    "filenames = os.listdir(report_dir_path)\n",
    "\n",
    "report_paths = [os.path.join(report_dir_path, filename) for filename in filenames if not filename.startswith(\"baseline\")]\n",
    "reports = [(scripts.read_report(path), extract_node_id(path)) for path in report_paths]\n",
    "\n",
    "baseline_report = scripts.read_report(os.path.join(report_dir_path, \"baseline_1.rpt\"))"
   ]
  },
  {
   "cell_type": "code",
   "execution_count": 5,
   "id": "0aff8bfc",
   "metadata": {},
   "outputs": [
    {
     "name": "stdout",
     "output_type": "stream",
     "text": [
      "pressure    True\n",
      "dtype: bool\n",
      "pressure    True\n",
      "dtype: bool\n",
      "pressure    True\n",
      "dtype: bool\n"
     ]
    }
   ],
   "source": [
    "for i in range(1, len(baseline_report)):\n",
    "    print((baseline_report[i-1] == baseline_report[i]).all())"
   ]
  },
  {
   "cell_type": "code",
   "execution_count": 6,
   "id": "1a68f289",
   "metadata": {},
   "outputs": [],
   "source": [
    "def report_to_pandas(report: list[pd.DataFrame], leakage_node: int) -> pd.DataFrame:\n",
    "\n",
    "    training_example = []\n",
    "    for i, pressure_measure in enumerate(report):\n",
    "        pressure_measure = pressure_measure.T.reset_index(drop=True)\n",
    "        pressure_measure.columns.name = None\n",
    "\n",
    "        pressure_measure[\"ts\"] = i\n",
    "        pressure_measure[\"leakage_node\"] = leakage_node\n",
    "\n",
    "        training_example.append(pressure_measure)\n",
    "\n",
    "    row_df = pd.concat(training_example)\n",
    "    return row_df\n",
    "\n",
    "\n",
    "def transform_whole_dataset(reports: list[tuple[list[pd.DataFrame], int]]) -> pd.DataFrame:\n",
    "    report_dfs = []\n",
    "\n",
    "    for report in reports:\n",
    "        report_dfs.append(report_to_pandas(*report))\n",
    "\n",
    "    df = pd.concat(report_dfs).reset_index(drop=True)\n",
    "    return df"
   ]
  },
  {
   "cell_type": "code",
   "execution_count": 7,
   "id": "bf7408a9",
   "metadata": {},
   "outputs": [],
   "source": [
    "df = transform_whole_dataset(reports)\n",
    "baseline_pressures = report_to_pandas(baseline_report, -1)\n",
    "\n",
    "baseline_pressures = baseline_pressures.iloc[[0]].drop(columns=[\"ts\", \"leakage_node\"]).to_numpy()\n",
    "ts, leakage_node = df[\"ts\"], df[\"leakage_node\"]\n",
    "pressures = df.drop(columns=[\"ts\", \"leakage_node\"]).to_numpy()\n",
    "\n",
    "pressures = pressures - baseline_pressures"
   ]
  },
  {
   "cell_type": "code",
   "execution_count": 8,
   "id": "a11d1a74",
   "metadata": {},
   "outputs": [
    {
     "name": "stdout",
     "output_type": "stream",
     "text": [
      "EPANET version 20200 loaded (EPyT version v1.2.1 - Last Update: 09/01/2024).\n",
      "Input File Hanoi.inp loaded successfully.\n",
      "\n"
     ]
    }
   ],
   "source": [
    "from epyt import epanet\n",
    "\n",
    "input_file = \"../data/Hanoi.inp\"\n",
    "G = epanet(input_file)"
   ]
  },
  {
   "cell_type": "code",
   "execution_count": 9,
   "id": "6fe98087",
   "metadata": {},
   "outputs": [],
   "source": [
    "import numba\n",
    "import numpy as np\n",
    "\n",
    "@numba.jit(nopython=True)\n",
    "def triple_loop(dist: np.ndarray, n: int) -> np.ndarray:\n",
    "    for k in range(n):\n",
    "        for i in range(n):\n",
    "            for j in range(n):\n",
    "                dist[i][j] = min(dist[i][j], dist[i][k] + dist[k][j])\n",
    "    return dist\n",
    "\n",
    "\n",
    "def floyd_warshall(adj_matrix: np.ndarray, undirected: bool = True) -> np.ndarray:\n",
    "    n = adj_matrix.shape[0]\n",
    "    if undirected:\n",
    "        adj_matrix = np.maximum(adj_matrix, adj_matrix.T)\n",
    "        \n",
    "    dist = np.full_like(adj_matrix, float(n + 1))\n",
    "    dist[adj_matrix > 0] = 1.0\n",
    "    np.fill_diagonal(dist, 0.0)\n",
    "\n",
    "    dist = triple_loop(dist, n)\n",
    "    return dist\n",
    "\n",
    "\n",
    "def matrix_to_adj_list(matrix: np.ndarray, undirected: bool = True) -> list[set[int]]:\n",
    "    n = matrix.shape[0]\n",
    "    if undirected:\n",
    "        matrix = np.maximum(matrix, matrix.T)\n",
    "\n",
    "    adj_list = [set() for _ in range(n)]\n",
    "    for i, row in enumerate(matrix):\n",
    "        for neighbor, connected in enumerate(row):\n",
    "            if connected > 0:\n",
    "                adj_list[i].add(neighbor)\n",
    "                adj_list[neighbor].add(i)\n",
    "\n",
    "    return adj_list\n",
    "\n",
    "\n",
    "class Network:\n",
    "    def __init__(self, G: epanet):\n",
    "        self.G = G\n",
    "\n",
    "        self.adj_matrix = G.getAdjacencyMatrix()\n",
    "        self.adj_list = matrix_to_adj_list(self.adj_matrix, undirected=True)\n",
    "        self.distances = floyd_warshall(self.adj_matrix, undirected=True)\n",
    "\n",
    "        self.node_ids = G.NodeNameID\n",
    "        self.node_indexes = list(map(lambda x: x - 1, G.NodeIndex))\n",
    "        self.node_id_to_position_mapping = dict(zip(G.NodeNameID, self.node_indexes))\n",
    "\n",
    "    def plot_with_ids(self):\n",
    "        self.G.plot(nodesID=self.node_ids, fontsize=3)\n",
    "\n",
    "    def plot_with_indexes(self):\n",
    "        self.G.plot(nodesindex=list(map(lambda x: x + 1, self.node_indexes)), fontsize=3)\n",
    "\n",
    "    def neighbor_array(self, vertex: int) -> np.ndarray:\n",
    "        return np.array(list(self.adj_list[vertex]))\n",
    "\n",
    "    def map_node_ids(self, ids: np.ndarray) -> np.ndarray:\n",
    "        ids = list(map(str, ids))\n",
    "        return np.array(list(map(self.node_id_to_position_mapping.get, ids)))\n"
   ]
  },
  {
   "cell_type": "code",
   "execution_count": 10,
   "id": "702c2413",
   "metadata": {},
   "outputs": [
    {
     "data": {
      "image/png": "[encoded data removed]",
      "text/plain": [
       "<Figure size 900x600 with 1 Axes>"
      ]
     },
     "metadata": {},
     "output_type": "display_data"
    },
    {
     "data": {
      "image/png": "[encoded data removed]",
      "text/plain": [
       "<Figure size 900x600 with 1 Axes>"
      ]
     },
     "metadata": {},
     "output_type": "display_data"
    }
   ],
   "source": [
    "network = Network(G)\n",
    "network.plot_with_indexes()\n",
    "network.plot_with_ids()"
   ]
  },
  {
   "cell_type": "code",
   "execution_count": 11,
   "id": "f9d2a454",
   "metadata": {},
   "outputs": [],
   "source": [
    "def random_solution(vertices: np.ndarray, m: int) -> np.ndarray:\n",
    "    return np.random.permutation(vertices)[:m]\n",
    "\n",
    "\n",
    "vertices = np.array(network.node_indexes)\n",
    "solution = random_solution(vertices, 3)"
   ]
  },
  {
   "cell_type": "code",
   "execution_count": 12,
   "id": "deb7b3b6",
   "metadata": {},
   "outputs": [],
   "source": [
    "from sklearn.neighbors import KNeighborsClassifier\n",
    "from sklearn.model_selection import train_test_split\n",
    "\n",
    "leakage_node_mapped = network.map_node_ids(leakage_node)\n",
    "train_pressures, test_pressures, train_labels, test_labels = train_test_split(pressures, leakage_node_mapped, test_size=0.5)"
   ]
  },
  {
   "cell_type": "code",
   "execution_count": 13,
   "id": "7ef7ab0f",
   "metadata": {},
   "outputs": [
    {
     "name": "stdout",
     "output_type": "stream",
     "text": [
      "[ 3 31 12 22]\n"
     ]
    },
    {
     "data": {
      "text/plain": [
       "np.float64(0.4971428571428571)"
      ]
     },
     "execution_count": 13,
     "metadata": {},
     "output_type": "execute_result"
    }
   ],
   "source": [
    "def evaluate_solution(\n",
    "        vertices_subset: np.ndarray, \n",
    "        network: Network,\n",
    "        train_pressures: np.ndarray,\n",
    "        train_labels: np.ndarray,\n",
    "        test_pressures: np.ndarray,\n",
    "        test_labels: np.ndarray,\n",
    "        d_max: float = 5\n",
    "    ) -> float:\n",
    "\n",
    "    train_subset = train_pressures[:, vertices_subset]\n",
    "    test_subset = test_pressures[:, vertices_subset]\n",
    "\n",
    "    knn = KNeighborsClassifier(n_neighbors=5)\n",
    "    knn.fit(train_subset, train_labels)\n",
    "\n",
    "    pred_label = knn.predict(test_subset)\n",
    "\n",
    "    dists = network.distances[pred_label, test_labels] / d_max\n",
    "    dists[dists >= 1.0] = 1.0 \n",
    "    loss = dists.sum() / pred_label.shape[0]\n",
    "\n",
    "    return loss\n",
    "\n",
    "\n",
    "solution = random_solution(vertices, 4)\n",
    "print(solution)\n",
    "evaluate_solution(solution, network, train_pressures, train_labels, test_pressures, test_labels)"
   ]
  },
  {
   "cell_type": "code",
   "execution_count": 14,
   "id": "cd30f6ff",
   "metadata": {},
   "outputs": [],
   "source": [
    "def generate_neighbor(vertex_subset: np.ndarray, network: Network) -> np.ndarray:\n",
    "\n",
    "    count = 0\n",
    "    while count < 100:\n",
    "        vertex_to_swap = np.random.choice(vertex_subset)\n",
    "        neighboring_vertex = np.random.choice(network.neighbor_array(vertex_to_swap))\n",
    "        if neighboring_vertex not in vertex_subset:\n",
    "            break\n",
    "        count += 1\n",
    "\n",
    "    new_vertices = vertex_subset.copy()\n",
    "    new_vertices[new_vertices == vertex_to_swap] = neighboring_vertex\n",
    "\n",
    "    return new_vertices"
   ]
  },
  {
   "cell_type": "code",
   "execution_count": 15,
   "id": "a89583e3",
   "metadata": {},
   "outputs": [
    {
     "data": {
      "text/plain": [
       "array([ 2, 31, 12, 22])"
      ]
     },
     "execution_count": 15,
     "metadata": {},
     "output_type": "execute_result"
    }
   ],
   "source": [
    "generate_neighbor(solution, network)"
   ]
  },
  {
   "cell_type": "markdown",
   "id": "77d3e250",
   "metadata": {},
   "source": [
    "### Annealing"
   ]
  },
  {
   "cell_type": "code",
   "execution_count": 27,
   "id": "0b17e252",
   "metadata": {},
   "outputs": [],
   "source": [
    "from typing import Callable\n",
    "\n",
    "def f(delta, T):\n",
    "    return np.exp(-delta/T)\n",
    "\n",
    "def annealing(\n",
    "    vertices: np.ndarray,\n",
    "    network: Network,\n",
    "    train_pressures: np.ndarray,\n",
    "    train_labels: np.ndarray,\n",
    "    test_pressures: np.ndarray,\n",
    "    test_labels: np.ndarray,\n",
    "    neighbor_fun: Callable[[np.ndarray, Network], np.ndarray] = generate_neighbor,\n",
    "\n",
    "    steps: int = 1000, \n",
    "    T0: int = 50, \n",
    "    alpha: float = 0.99, \n",
    "    no_of_iter: int = 40, \n",
    ") -> None:\n",
    "    \n",
    "    solution = random_solution(vertices, 5)\n",
    "    cur_energy = evaluate_solution(\n",
    "        solution, network, \n",
    "        train_pressures, train_labels,\n",
    "        test_pressures, test_labels\n",
    "    )\n",
    "\n",
    "    energy_states = [cur_energy]\n",
    "    T = T0\n",
    "    temperature = [T0]\n",
    "\n",
    "    for i in range(steps):\n",
    "\n",
    "        print(i)\n",
    "        for _ in range(no_of_iter):\n",
    "            new_solution = neighbor_fun(solution, network)\n",
    "            next_energy = evaluate_solution(\n",
    "                new_solution, network,\n",
    "                train_pressures, train_labels,\n",
    "                test_pressures, test_labels\n",
    "            )\n",
    "\n",
    "            if next_energy < cur_energy:\n",
    "                solution = new_solution\n",
    "                cur_energy = next_energy\n",
    "            else:\n",
    "                probability = f(next_energy - cur_energy, T)\n",
    "                if probability > np.random.uniform(0, 1):\n",
    "                    solution = new_solution\n",
    "                    cur_energy = next_energy\n",
    "\n",
    "        T *= alpha\n",
    "        temperature.append(T)\n",
    "        energy_states.append(cur_energy)\n",
    "\n",
    "    return energy_states, temperature"
   ]
  },
  {
   "cell_type": "code",
   "execution_count": null,
   "id": "f94887f6",
   "metadata": {},
   "outputs": [],
   "source": [
    "E, T = annealing(vertices, network, train_pressures, train_labels, test_pressures, test_labels)"
   ]
  },
  {
   "cell_type": "code",
   "execution_count": 25,
   "id": "ddbf0e95",
   "metadata": {},
   "outputs": [
    {
     "data": {
      "image/png": "[encoded data removed]",
      "text/plain": [
       "<Figure size 640x480 with 1 Axes>"
      ]
     },
     "metadata": {},
     "output_type": "display_data"
    }
   ],
   "source": [
    "import matplotlib.pyplot as plt\n",
    "\n",
    "plt.rcdefaults()\n",
    "plt.plot(E)\n",
    "plt.show()"
   ]
  },
  {
   "cell_type": "code",
   "execution_count": 26,
   "id": "7e4f6f4b",
   "metadata": {},
   "outputs": [
    {
     "data": {
      "image/png": "[encoded data removed]",
      "text/plain": [
       "<Figure size 640x480 with 1 Axes>"
      ]
     },
     "metadata": {},
     "output_type": "display_data"
    }
   ],
   "source": [
    "plt.plot(T)\n",
    "plt.show()"
   ]
  }
 ],
 "metadata": {
  "kernelspec": {
   "display_name": "venv",
   "language": "python",
   "name": "python3"
  },
  "language_info": {
   "codemirror_mode": {
    "name": "ipython",
    "version": 3
   },
   "file_extension": ".py",
   "mimetype": "text/x-python",
   "name": "python",
   "nbconvert_exporter": "python",
   "pygments_lexer": "ipython3",
   "version": "3.12.4"
  }
 },
 "nbformat": 4,
 "nbformat_minor": 5
}
