{
 "cells": [
  {
   "cell_type": "code",
   "execution_count": 1,
   "metadata": {},
   "outputs": [],
   "source": [
    "from epyt import epanet\n",
    "import matplotlib.pyplot as plt\n",
    "import numpy as np"
   ]
  },
  {
   "cell_type": "markdown",
   "metadata": {},
   "source": [
    "Full documentation of [epyt](https://epanet-python-toolkit-epyt.readthedocs.io/en/latest/api.html)."
   ]
  },
  {
   "cell_type": "markdown",
   "metadata": {},
   "source": [
    "## Basic Operations"
   ]
  },
  {
   "cell_type": "markdown",
   "metadata": {},
   "source": [
    "For the demonstration purposes the Hanoi network will be used."
   ]
  },
  {
   "cell_type": "code",
   "execution_count": 2,
   "metadata": {},
   "outputs": [
    {
     "name": "stdout",
     "output_type": "stream",
     "text": [
      "EPANET version 20200 loaded (EPyT version v1.2.1 - Last Update: 09/01/2024).\n",
      "Input File Hanoi.inp loaded successfully.\n",
      "\n"
     ]
    }
   ],
   "source": [
    "input_file = \"../data/Hanoi.inp\"\n",
    "G = epanet(input_file)"
   ]
  },
  {
   "cell_type": "markdown",
   "metadata": {},
   "source": [
    "The library allows to query some basic information about the WDN."
   ]
  },
  {
   "cell_type": "code",
   "execution_count": 3,
   "metadata": {},
   "outputs": [
    {
     "data": {
      "text/plain": [
       "(32,\n",
       " 34,\n",
       " {1: array([247.22000122, 236.11000061,  36.11000061, 201.38999939,\n",
       "         279.17001343, 375.        , 152.77999878, 145.83000183,\n",
       "         145.83000183, 138.88999939, 155.55999756, 261.10998535,\n",
       "         170.83000183,  77.77999878,  86.11000061, 240.27999878,\n",
       "         373.60998535,  16.67000008, 354.17001343, 258.32998657,\n",
       "         134.72000122, 290.27999878, 227.77999878,  47.22000122,\n",
       "         250.        , 102.77999878,  80.55999756, 100.        ,\n",
       "         100.        ,  29.17000008, 223.61000061,   0.        ])})"
      ]
     },
     "execution_count": 3,
     "metadata": {},
     "output_type": "execute_result"
    }
   ],
   "source": [
    "G.NodeCount, G.LinkCount, G.getNodeBaseDemands()"
   ]
  },
  {
   "cell_type": "markdown",
   "metadata": {},
   "source": [
    "Epyt indexes nodes starting from 1, so if the info about the node (pressure or demand) is retrieved from numpy array, then it needs to be accessed with node_id - 1."
   ]
  },
  {
   "cell_type": "code",
   "execution_count": 4,
   "metadata": {},
   "outputs": [
    {
     "data": {
      "text/plain": [
       "(1, 32)"
      ]
     },
     "execution_count": 4,
     "metadata": {},
     "output_type": "execute_result"
    }
   ],
   "source": [
    "min(G.NodeIndex), max(G.NodeIndex)"
   ]
  },
  {
   "cell_type": "markdown",
   "metadata": {},
   "source": [
    "We can also plot the net, however the WDN cannnot be too big."
   ]
  },
  {
   "cell_type": "code",
   "execution_count": 5,
   "metadata": {},
   "outputs": [
    {
     "data": {
      "image/png": "[encoded data removed]",
      "text/plain": [
       "<Figure size 900x600 with 1 Axes>"
      ]
     },
     "metadata": {},
     "output_type": "display_data"
    }
   ],
   "source": [
    "G.plot(nodesindex=list(range(1, 33)), fontsize=3);"
   ]
  },
  {
   "cell_type": "markdown",
   "metadata": {},
   "source": [
    "Adjacency matrix can be used to compute pairwise distances (Floyd-Warshall algorithm) between nodes. This precomputation is needed in the cost function for the leakage detection algorithm."
   ]
  },
  {
   "cell_type": "code",
   "execution_count": 6,
   "metadata": {},
   "outputs": [
    {
     "data": {
      "text/plain": [
       "(32, 32)"
      ]
     },
     "execution_count": 6,
     "metadata": {},
     "output_type": "execute_result"
    }
   ],
   "source": [
    "adj_matrix = G.getAdjacencyMatrix()\n",
    "adj_matrix.shape"
   ]
  },
  {
   "cell_type": "code",
   "execution_count": 7,
   "metadata": {},
   "outputs": [],
   "source": [
    "import numba\n",
    "\n",
    "@numba.jit(nopython=True)\n",
    "def triple_loop(dist: np.ndarray, n: int) -> np.ndarray:\n",
    "    for k in range(n):\n",
    "        for i in range(n):\n",
    "            for j in range(n):\n",
    "                dist[i][j] = min(dist[i][j], dist[i][k] + dist[k][j])\n",
    "    return dist\n",
    "\n",
    "def floyd_warshall(adj_matrix: np.ndarray, undirected: bool = True) -> np.ndarray:\n",
    "    n = adj_matrix.shape[0]\n",
    "    if undirected:\n",
    "        adj_matrix = np.maximum(adj_matrix, adj_matrix.T)\n",
    "        \n",
    "    dist = np.full_like(adj_matrix, float(n + 1))\n",
    "    dist[adj_matrix > 0] = 1.0\n",
    "    np.fill_diagonal(dist, 0.0)\n",
    "\n",
    "    dist = triple_loop(dist, n)\n",
    "    \n",
    "    return dist"
   ]
  },
  {
   "cell_type": "code",
   "execution_count": 8,
   "metadata": {},
   "outputs": [
    {
     "data": {
      "text/plain": [
       "array([[0., 1., 2., ..., 7., 6., 1.],\n",
       "       [1., 0., 1., ..., 6., 5., 2.],\n",
       "       [2., 1., 0., ..., 7., 6., 3.],\n",
       "       ...,\n",
       "       [7., 6., 7., ..., 0., 1., 8.],\n",
       "       [6., 5., 6., ..., 1., 0., 7.],\n",
       "       [1., 2., 3., ..., 8., 7., 0.]])"
      ]
     },
     "execution_count": 8,
     "metadata": {},
     "output_type": "execute_result"
    }
   ],
   "source": [
    "dist = floyd_warshall(adj_matrix)\n",
    "dist"
   ]
  },
  {
   "cell_type": "markdown",
   "metadata": {},
   "source": [
    "The WDNs are directed graphs (water usually flows in one direction). For computing distances however it makes more sense to treat it as undirected graph, otherwise some distances will be infinite."
   ]
  },
  {
   "cell_type": "markdown",
   "metadata": {},
   "source": [
    "## Running Simulations"
   ]
  },
  {
   "cell_type": "markdown",
   "metadata": {},
   "source": [
    "Changing DDA to PDA"
   ]
  },
  {
   "cell_type": "code",
   "execution_count": 9,
   "metadata": {},
   "outputs": [
    {
     "name": "stdout",
     "output_type": "stream",
     "text": [
      "Help on method setDemandModel in module epyt.epanet:\n",
      "\n",
      "setDemandModel(code, pmin, preq, pexp) method of epyt.epanet.epanet instance\n",
      "    Sets the type of demand model to use and its parameters.\n",
      "\n",
      "    :param code: Type of demand model\n",
      "        * 'DDA' = Demand driven analysis (in which case the\n",
      "        remaining three parameter values are ignored)\n",
      "        * 'PDA' = Pressure driven analysis\n",
      "    :type code: str\n",
      "    :param pmin: Pressure below which there is no demand\n",
      "    :type pmin: float\n",
      "    :param preq: Pressure required to deliver full demand\n",
      "    :type preq: float\n",
      "    :param pexp: Pressure exponent in demand function\n",
      "    :type pexp: float\n",
      "    :return: None\n",
      "\n",
      "    Example:\n",
      "\n",
      "    >>> d.getDemandModel().disp()                  # Print the demand model\n",
      "    >>> type = 'PDA'\n",
      "    >>> pmin = 0\n",
      "    >>> preq = 0.1\n",
      "    >>> pexp = 0.5\n",
      "    >>> d.setDemandModel(type, pmin, preq, pexp)   # Sets the demand model\n",
      "    >>> d.getDemandModel().to_dict()\n",
      "\n",
      "    See also getDemandModel, setNodeBaseDemands, setNodeJunctionDemandName,\n",
      "    addNodeJunctionDemand, deleteNodeJunctionDemand.\n",
      "\n"
     ]
    }
   ],
   "source": [
    "help(G.setDemandModel)"
   ]
  },
  {
   "cell_type": "code",
   "execution_count": 10,
   "metadata": {},
   "outputs": [],
   "source": [
    "G.setDemandModel(code=\"PDA\", pmin=0.0, preq=0.1, pexp=0.5)"
   ]
  },
  {
   "cell_type": "markdown",
   "metadata": {},
   "source": [
    "Runs a simulation, the details (duration, report step) can be set in the config file or through the api."
   ]
  },
  {
   "cell_type": "code",
   "execution_count": 11,
   "metadata": {},
   "outputs": [
    {
     "name": "stdout",
     "output_type": "stream",
     "text": [
      "Help on method getComputedHydraulicTimeSeries in module epyt.epanet:\n",
      "\n",
      "getComputedHydraulicTimeSeries(matrix=True, *argv) method of epyt.epanet.epanet instance\n",
      "    Computes hydraulic simulation and retrieves all time-series.\n",
      "\n",
      "    Data that is computed:\n",
      "      1) Time              8)  Velocity\n",
      "      2) Pressure          9)  HeadLoss\n",
      "      3) Demand            10) Status\n",
      "      4) DemandDeficit     11) Setting\n",
      "      5) Head              12) Energy\n",
      "      6) TankVolume        13) Efficiency\n",
      "      7) Flow\n",
      "\n",
      "    Example 1:\n",
      "\n",
      "    # Retrieves all the time-series data\n",
      "    >>> d.getComputedHydraulicTimeSeries()\n",
      "\n",
      "    Example 2:\n",
      "\n",
      "    # Retrieves all the time-series demands\n",
      "    >>> d.getComputedHydraulicTimeSeries().Demand\n",
      "    # Retrieves all the time-series flows\n",
      "    >>> d.getComputedHydraulicTimeSeries().Flow\n",
      "\n",
      "    Example 3:\n",
      "\n",
      "    # Retrieves all the time-series Time, Pressure, Velocity\n",
      "    >>> data = d.getComputedHydraulicTimeSeries(['Time',\n",
      "    ...                                         'Pressure',\n",
      "    ...                                         'Velocity'])\n",
      "    >>> time = data.Time\n",
      "    >>> pressure = data.Pressure\n",
      "    >>> velocity = data.Velocity\n",
      "\n",
      "    See also getComputedQualityTimeSeries, getComputedTimeSeries.\n",
      "\n"
     ]
    }
   ],
   "source": [
    "help(G.getComputedHydraulicTimeSeries)"
   ]
  },
  {
   "cell_type": "code",
   "execution_count": 12,
   "metadata": {},
   "outputs": [],
   "source": [
    "G.setTimeReportingStep(600) # 600 seconds - 10 mins\n",
    "G.setTimeSimulationDuration(3600 * 48) # 48 hours\n",
    "G.setTimePatternStep(600) # Same as reporting step"
   ]
  },
  {
   "cell_type": "code",
   "execution_count": 13,
   "metadata": {},
   "outputs": [
    {
     "data": {
      "text/plain": [
       "(289, 32)"
      ]
     },
     "execution_count": 13,
     "metadata": {},
     "output_type": "execute_result"
    }
   ],
   "source": [
    "measures = G.getComputedHydraulicTimeSeries()\n",
    "measures.Pressure.shape"
   ]
  },
  {
   "cell_type": "markdown",
   "metadata": {},
   "source": [
    "Actually it does not always work as expected (it's better to set those particular values in the config file)"
   ]
  },
  {
   "cell_type": "markdown",
   "metadata": {},
   "source": [
    "## Leak scenario"
   ]
  },
  {
   "cell_type": "markdown",
   "metadata": {},
   "source": [
    "Simulating leaks can obtained by changing demand pattern"
   ]
  },
  {
   "cell_type": "code",
   "execution_count": 14,
   "metadata": {},
   "outputs": [
    {
     "data": {
      "text/plain": [
       "('10', 9)"
      ]
     },
     "execution_count": 14,
     "metadata": {},
     "output_type": "execute_result"
    }
   ],
   "source": [
    "leak_start = 144 # We assume that leaks starts halfway through the simulation\n",
    "\n",
    "leak_node_id = '10' # Node ids not always have to be numeric and its something different that nodes index\n",
    "leak_node_index = G.getNodeIndex(leak_node_id)\n",
    "\n",
    "leak_node_id, leak_node_index"
   ]
  },
  {
   "cell_type": "code",
   "execution_count": 15,
   "metadata": {},
   "outputs": [],
   "source": [
    "leak_pattern = np.ones(289)\n",
    "leak_pattern[leak_start:] = 3 # Multiply by 3\n",
    "\n",
    "pattern_index = G.addPattern('leak', leak_pattern) # Add demand pattern\n",
    "G.setNodeDemandPatternIndex(leak_node_index, pattern_index)\n",
    "G.setNodeBaseDemands(leak_node_index, 50)"
   ]
  },
  {
   "cell_type": "code",
   "execution_count": 16,
   "metadata": {},
   "outputs": [
    {
     "data": {
      "text/plain": [
       "UniqueCountsResult(values=array([ 50.00001144, 150.00001526]), counts=array([144, 145]))"
      ]
     },
     "execution_count": 16,
     "metadata": {},
     "output_type": "execute_result"
    }
   ],
   "source": [
    "measures = G.getComputedHydraulicTimeSeries()\n",
    "leak_node_demand = measures.Demand[:, leak_node_index - 1]\n",
    "np.unique_counts(leak_node_demand)"
   ]
  },
  {
   "cell_type": "markdown",
   "metadata": {},
   "source": [
    "at the end we can save epanet object as a new .inp file"
   ]
  },
  {
   "cell_type": "code",
   "execution_count": 19,
   "metadata": {},
   "outputs": [],
   "source": [
    "G.saveInputFile(\"modified_Hanoi.inp\")"
   ]
  },
  {
   "cell_type": "markdown",
   "metadata": {},
   "source": [
    "## Trying out some bigger network"
   ]
  },
  {
   "cell_type": "code",
   "execution_count": 20,
   "metadata": {},
   "outputs": [
    {
     "name": "stdout",
     "output_type": "stream",
     "text": [
      "EPANET version 20200 loaded (EPyT version v1.2.1 - Last Update: 09/01/2024).\n",
      "Input File z_cisnieniem_v1.inp loaded successfully.\n",
      "\n"
     ]
    }
   ],
   "source": [
    "G = epanet(\"../data/z_cisnieniem_v1.inp\")"
   ]
  },
  {
   "cell_type": "code",
   "execution_count": 21,
   "metadata": {},
   "outputs": [
    {
     "data": {
      "text/plain": [
       "(8528, 8753)"
      ]
     },
     "execution_count": 21,
     "metadata": {},
     "output_type": "execute_result"
    }
   ],
   "source": [
    "G.NodeCount, G.LinkCount"
   ]
  },
  {
   "cell_type": "code",
   "execution_count": null,
   "metadata": {},
   "outputs": [],
   "source": [
    "# G.plot() -- better not to"
   ]
  },
  {
   "cell_type": "code",
   "execution_count": 22,
   "metadata": {},
   "outputs": [],
   "source": [
    "adj_mat = G.getAdjacencyMatrix()"
   ]
  },
  {
   "cell_type": "code",
   "execution_count": 23,
   "metadata": {},
   "outputs": [],
   "source": [
    "dist = floyd_warshall(adj_mat)"
   ]
  },
  {
   "cell_type": "markdown",
   "metadata": {},
   "source": [
    "Approximately four minutes. Without numba this would take around 3 days"
   ]
  },
  {
   "cell_type": "code",
   "execution_count": 24,
   "metadata": {},
   "outputs": [],
   "source": [
    "G.setTimeReportingStep(3600) # every hour\n",
    "G.setTimeSimulationDuration(3600 * 168) # 168 hours"
   ]
  },
  {
   "cell_type": "code",
   "execution_count": 25,
   "metadata": {},
   "outputs": [],
   "source": [
    "m = G.getComputedHydraulicTimeSeries()"
   ]
  },
  {
   "cell_type": "markdown",
   "metadata": {},
   "source": [
    "Running one simulation through python API took 8 seconds"
   ]
  }
 ],
 "metadata": {
  "kernelspec": {
   "display_name": "venv",
   "language": "python",
   "name": "python3"
  },
  "language_info": {
   "codemirror_mode": {
    "name": "ipython",
    "version": 3
   },
   "file_extension": ".py",
   "mimetype": "text/x-python",
   "name": "python",
   "nbconvert_exporter": "python",
   "pygments_lexer": "ipython3",
   "version": "3.12.4"
  }
 },
 "nbformat": 4,
 "nbformat_minor": 2
}
